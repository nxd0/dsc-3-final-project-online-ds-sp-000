{
 "cells": [
  {
   "cell_type": "markdown",
   "metadata": {},
   "source": [
    "Module 3 Final Project Submission / Noah X. Deutsch (Self-Paced)\n",
    "\n",
    "# Predicting The Success of Kickstarters\n",
    "\n",
    "## Project Overview\n",
    "For this project, I set out to answer the following question: Can we use supervised learning to predict the success of a kickstarter project before it even launches? Working with a Kaggle dataset, I explored explored and optimized a range of classification models to approach this question.\n",
    "\n",
    "\n",
    "## My Approach\n",
    "### Obtain Data √\n",
    "- From Kaggle\n",
    "\n",
    "### Scrub √\n",
    "- Creating our predictor variables\n",
    "- Normalizing our data\n",
    "- Train test split\n",
    "\n",
    "### Model, Compare, and Refine √\n",
    "- Fit baseline models\n",
    "- Compare results\n",
    "- Optimize models wih GridSearch\n",
    "- Compare results\n",
    "\n",
    "### Interpret √\n",
    "- Draw conclusions\n"
   ]
  },
  {
   "cell_type": "markdown",
   "metadata": {},
   "source": [
    "---\n",
    "## Obtain\n",
    "\n",
    "Original dataset:\n",
    "https://www.kaggle.com/kemical/kickstarter-projects?select=ks-projects-201801.csv"
   ]
  },
  {
   "cell_type": "code",
   "execution_count": 55,
   "metadata": {},
   "outputs": [],
   "source": [
    "#Import neccessary libraries\n",
    "\n",
    "import numpy as np\n",
    "import pandas as pd\n",
    "import matplotlib.pyplot as plt\n",
    "%matplotlib inline\n",
    "import seaborn as sns"
   ]
  },
  {
   "cell_type": "code",
   "execution_count": 56,
   "metadata": {},
   "outputs": [
    {
     "data": {
      "text/html": [
       "<div>\n",
       "<style scoped>\n",
       "    .dataframe tbody tr th:only-of-type {\n",
       "        vertical-align: middle;\n",
       "    }\n",
       "\n",
       "    .dataframe tbody tr th {\n",
       "        vertical-align: top;\n",
       "    }\n",
       "\n",
       "    .dataframe thead th {\n",
       "        text-align: right;\n",
       "    }\n",
       "</style>\n",
       "<table border=\"1\" class=\"dataframe\">\n",
       "  <thead>\n",
       "    <tr style=\"text-align: right;\">\n",
       "      <th></th>\n",
       "      <th>ID</th>\n",
       "      <th>name</th>\n",
       "      <th>category</th>\n",
       "      <th>main_category</th>\n",
       "      <th>currency</th>\n",
       "      <th>deadline</th>\n",
       "      <th>goal</th>\n",
       "      <th>launched</th>\n",
       "      <th>pledged</th>\n",
       "      <th>state</th>\n",
       "      <th>backers</th>\n",
       "      <th>country</th>\n",
       "      <th>usd pledged</th>\n",
       "      <th>usd_pledged_real</th>\n",
       "      <th>usd_goal_real</th>\n",
       "    </tr>\n",
       "  </thead>\n",
       "  <tbody>\n",
       "    <tr>\n",
       "      <th>0</th>\n",
       "      <td>1000002330</td>\n",
       "      <td>The Songs of Adelaide &amp; Abullah</td>\n",
       "      <td>Poetry</td>\n",
       "      <td>Publishing</td>\n",
       "      <td>GBP</td>\n",
       "      <td>2015-10-09</td>\n",
       "      <td>1000.0</td>\n",
       "      <td>2015-08-11 12:12:28</td>\n",
       "      <td>0.0</td>\n",
       "      <td>failed</td>\n",
       "      <td>0</td>\n",
       "      <td>GB</td>\n",
       "      <td>0.0</td>\n",
       "      <td>0.0</td>\n",
       "      <td>1533.95</td>\n",
       "    </tr>\n",
       "    <tr>\n",
       "      <th>1</th>\n",
       "      <td>1000003930</td>\n",
       "      <td>Greeting From Earth: ZGAC Arts Capsule For ET</td>\n",
       "      <td>Narrative Film</td>\n",
       "      <td>Film &amp; Video</td>\n",
       "      <td>USD</td>\n",
       "      <td>2017-11-01</td>\n",
       "      <td>30000.0</td>\n",
       "      <td>2017-09-02 04:43:57</td>\n",
       "      <td>2421.0</td>\n",
       "      <td>failed</td>\n",
       "      <td>15</td>\n",
       "      <td>US</td>\n",
       "      <td>100.0</td>\n",
       "      <td>2421.0</td>\n",
       "      <td>30000.00</td>\n",
       "    </tr>\n",
       "    <tr>\n",
       "      <th>2</th>\n",
       "      <td>1000004038</td>\n",
       "      <td>Where is Hank?</td>\n",
       "      <td>Narrative Film</td>\n",
       "      <td>Film &amp; Video</td>\n",
       "      <td>USD</td>\n",
       "      <td>2013-02-26</td>\n",
       "      <td>45000.0</td>\n",
       "      <td>2013-01-12 00:20:50</td>\n",
       "      <td>220.0</td>\n",
       "      <td>failed</td>\n",
       "      <td>3</td>\n",
       "      <td>US</td>\n",
       "      <td>220.0</td>\n",
       "      <td>220.0</td>\n",
       "      <td>45000.00</td>\n",
       "    </tr>\n",
       "    <tr>\n",
       "      <th>3</th>\n",
       "      <td>1000007540</td>\n",
       "      <td>ToshiCapital Rekordz Needs Help to Complete Album</td>\n",
       "      <td>Music</td>\n",
       "      <td>Music</td>\n",
       "      <td>USD</td>\n",
       "      <td>2012-04-16</td>\n",
       "      <td>5000.0</td>\n",
       "      <td>2012-03-17 03:24:11</td>\n",
       "      <td>1.0</td>\n",
       "      <td>failed</td>\n",
       "      <td>1</td>\n",
       "      <td>US</td>\n",
       "      <td>1.0</td>\n",
       "      <td>1.0</td>\n",
       "      <td>5000.00</td>\n",
       "    </tr>\n",
       "    <tr>\n",
       "      <th>4</th>\n",
       "      <td>1000011046</td>\n",
       "      <td>Community Film Project: The Art of Neighborhoo...</td>\n",
       "      <td>Film &amp; Video</td>\n",
       "      <td>Film &amp; Video</td>\n",
       "      <td>USD</td>\n",
       "      <td>2015-08-29</td>\n",
       "      <td>19500.0</td>\n",
       "      <td>2015-07-04 08:35:03</td>\n",
       "      <td>1283.0</td>\n",
       "      <td>canceled</td>\n",
       "      <td>14</td>\n",
       "      <td>US</td>\n",
       "      <td>1283.0</td>\n",
       "      <td>1283.0</td>\n",
       "      <td>19500.00</td>\n",
       "    </tr>\n",
       "  </tbody>\n",
       "</table>\n",
       "</div>"
      ],
      "text/plain": [
       "           ID                                               name  \\\n",
       "0  1000002330                    The Songs of Adelaide & Abullah   \n",
       "1  1000003930      Greeting From Earth: ZGAC Arts Capsule For ET   \n",
       "2  1000004038                                     Where is Hank?   \n",
       "3  1000007540  ToshiCapital Rekordz Needs Help to Complete Album   \n",
       "4  1000011046  Community Film Project: The Art of Neighborhoo...   \n",
       "\n",
       "         category main_category currency    deadline     goal  \\\n",
       "0          Poetry    Publishing      GBP  2015-10-09   1000.0   \n",
       "1  Narrative Film  Film & Video      USD  2017-11-01  30000.0   \n",
       "2  Narrative Film  Film & Video      USD  2013-02-26  45000.0   \n",
       "3           Music         Music      USD  2012-04-16   5000.0   \n",
       "4    Film & Video  Film & Video      USD  2015-08-29  19500.0   \n",
       "\n",
       "              launched  pledged     state  backers country  usd pledged  \\\n",
       "0  2015-08-11 12:12:28      0.0    failed        0      GB          0.0   \n",
       "1  2017-09-02 04:43:57   2421.0    failed       15      US        100.0   \n",
       "2  2013-01-12 00:20:50    220.0    failed        3      US        220.0   \n",
       "3  2012-03-17 03:24:11      1.0    failed        1      US          1.0   \n",
       "4  2015-07-04 08:35:03   1283.0  canceled       14      US       1283.0   \n",
       "\n",
       "   usd_pledged_real  usd_goal_real  \n",
       "0               0.0        1533.95  \n",
       "1            2421.0       30000.00  \n",
       "2             220.0       45000.00  \n",
       "3               1.0        5000.00  \n",
       "4            1283.0       19500.00  "
      ]
     },
     "execution_count": 56,
     "metadata": {},
     "output_type": "execute_result"
    }
   ],
   "source": [
    "#Loading in our data set\n",
    "\n",
    "ksdf = pd.read_csv('ks-projects-201801.csv')\n",
    "ksdf.head()"
   ]
  },
  {
   "cell_type": "code",
   "execution_count": 3,
   "metadata": {},
   "outputs": [
    {
     "data": {
      "text/plain": [
       "(378661, 15)"
      ]
     },
     "execution_count": 3,
     "metadata": {},
     "output_type": "execute_result"
    }
   ],
   "source": [
    "#Looking at our shape\n",
    "ksdf.shape"
   ]
  },
  {
   "cell_type": "code",
   "execution_count": 4,
   "metadata": {},
   "outputs": [
    {
     "data": {
      "text/plain": [
       "failed        197719\n",
       "successful    133956\n",
       "canceled       38779\n",
       "undefined       3562\n",
       "live            2799\n",
       "suspended       1846\n",
       "Name: state, dtype: int64"
      ]
     },
     "execution_count": 4,
     "metadata": {},
     "output_type": "execute_result"
    }
   ],
   "source": [
    "#and value counts for our Y variable\n",
    "ksdf.state.value_counts()"
   ]
  },
  {
   "cell_type": "markdown",
   "metadata": {},
   "source": [
    "---\n",
    "## Scrub √\n",
    "- Creating our predictor variables\n",
    "- Normalizing our data\n",
    "- Train test split"
   ]
  },
  {
   "cell_type": "code",
   "execution_count": 5,
   "metadata": {},
   "outputs": [
    {
     "data": {
      "text/plain": [
       "failed        238344\n",
       "successful    133956\n",
       "Name: state, dtype: int64"
      ]
     },
     "execution_count": 5,
     "metadata": {},
     "output_type": "execute_result"
    }
   ],
   "source": [
    "#Let's start by simplifying our \"State\" column\n",
    "\n",
    "ksdf[\"state\"].replace({\"suspended\": \"failed\", \"canceled\": \"failed\"}, inplace=True)\n",
    "ksdf = ksdf.loc[ksdf[\"state\"] != 'undefined']\n",
    "ksdf = ksdf.loc[ksdf[\"state\"] != 'live']\n",
    "\n",
    "ksdf.state.value_counts()"
   ]
  },
  {
   "cell_type": "code",
   "execution_count": 6,
   "metadata": {},
   "outputs": [
    {
     "data": {
      "text/plain": [
       "(50000, 15)"
      ]
     },
     "execution_count": 6,
     "metadata": {},
     "output_type": "execute_result"
    }
   ],
   "source": [
    "#We still have a crazy number of rows. \n",
    "#Let's reduce this to a more managable number so my computer can actually run the models...\n",
    "\n",
    "ksdf = ksdf.sample(n=50000,random_state=1)\n",
    "ksdf.shape"
   ]
  },
  {
   "cell_type": "code",
   "execution_count": 7,
   "metadata": {},
   "outputs": [],
   "source": [
    "#Sepparating our data into our X and Y for future modeling. \n",
    "\n",
    "y = ksdf['state']\n",
    "x = ksdf.drop(['state'],axis = 1)"
   ]
  },
  {
   "cell_type": "code",
   "execution_count": 8,
   "metadata": {},
   "outputs": [],
   "source": [
    "#Selecting from X the predictor columns we want. \n",
    "#Columns like \"backers\" & \"usd pledged\" we'll leave out, because they are things that would be known ahead of time.\n",
    "\n",
    "x1 = x[['category','main_category','currency','goal','country']]"
   ]
  },
  {
   "cell_type": "code",
   "execution_count": 9,
   "metadata": {},
   "outputs": [
    {
     "name": "stderr",
     "output_type": "stream",
     "text": [
      "/Users/noahxdeutsch/anaconda3/envs/learn-env/lib/python3.6/site-packages/ipykernel_launcher.py:8: SettingWithCopyWarning: \n",
      "A value is trying to be set on a copy of a slice from a DataFrame.\n",
      "Try using .loc[row_indexer,col_indexer] = value instead\n",
      "\n",
      "See the caveats in the documentation: http://pandas.pydata.org/pandas-docs/stable/indexing.html#indexing-view-versus-copy\n",
      "  \n"
     ]
    },
    {
     "data": {
      "text/html": [
       "<div>\n",
       "<style scoped>\n",
       "    .dataframe tbody tr th:only-of-type {\n",
       "        vertical-align: middle;\n",
       "    }\n",
       "\n",
       "    .dataframe tbody tr th {\n",
       "        vertical-align: top;\n",
       "    }\n",
       "\n",
       "    .dataframe thead th {\n",
       "        text-align: right;\n",
       "    }\n",
       "</style>\n",
       "<table border=\"1\" class=\"dataframe\">\n",
       "  <thead>\n",
       "    <tr style=\"text-align: right;\">\n",
       "      <th></th>\n",
       "      <th>category</th>\n",
       "      <th>main_category</th>\n",
       "      <th>currency</th>\n",
       "      <th>goal</th>\n",
       "      <th>country</th>\n",
       "      <th>Days_btw_launch_&amp;_deadline</th>\n",
       "    </tr>\n",
       "  </thead>\n",
       "  <tbody>\n",
       "    <tr>\n",
       "      <th>28550</th>\n",
       "      <td>Fashion</td>\n",
       "      <td>Fashion</td>\n",
       "      <td>USD</td>\n",
       "      <td>2500.0</td>\n",
       "      <td>US</td>\n",
       "      <td>29</td>\n",
       "    </tr>\n",
       "    <tr>\n",
       "      <th>206859</th>\n",
       "      <td>Fiction</td>\n",
       "      <td>Publishing</td>\n",
       "      <td>USD</td>\n",
       "      <td>18036.0</td>\n",
       "      <td>US</td>\n",
       "      <td>39</td>\n",
       "    </tr>\n",
       "    <tr>\n",
       "      <th>340059</th>\n",
       "      <td>Music</td>\n",
       "      <td>Music</td>\n",
       "      <td>USD</td>\n",
       "      <td>12000.0</td>\n",
       "      <td>US</td>\n",
       "      <td>29</td>\n",
       "    </tr>\n",
       "    <tr>\n",
       "      <th>224065</th>\n",
       "      <td>Fiction</td>\n",
       "      <td>Publishing</td>\n",
       "      <td>USD</td>\n",
       "      <td>2000.0</td>\n",
       "      <td>US</td>\n",
       "      <td>22</td>\n",
       "    </tr>\n",
       "    <tr>\n",
       "      <th>161757</th>\n",
       "      <td>Fiction</td>\n",
       "      <td>Publishing</td>\n",
       "      <td>USD</td>\n",
       "      <td>3570.0</td>\n",
       "      <td>US</td>\n",
       "      <td>59</td>\n",
       "    </tr>\n",
       "  </tbody>\n",
       "</table>\n",
       "</div>"
      ],
      "text/plain": [
       "       category main_category currency     goal country  \\\n",
       "28550   Fashion       Fashion      USD   2500.0      US   \n",
       "206859  Fiction    Publishing      USD  18036.0      US   \n",
       "340059    Music         Music      USD  12000.0      US   \n",
       "224065  Fiction    Publishing      USD   2000.0      US   \n",
       "161757  Fiction    Publishing      USD   3570.0      US   \n",
       "\n",
       "        Days_btw_launch_&_deadline  \n",
       "28550                           29  \n",
       "206859                          39  \n",
       "340059                          29  \n",
       "224065                          22  \n",
       "161757                          59  "
      ]
     },
     "execution_count": 9,
     "metadata": {},
     "output_type": "execute_result"
    }
   ],
   "source": [
    "#Let's make use of our date information, and add a column that represents the length of a Kickstarter project.\n",
    "\n",
    "import datetime as dt\n",
    "\n",
    "x['deadline']= pd.to_datetime(x['deadline']) \n",
    "x['launched']= pd.to_datetime(x['launched']) \n",
    "\n",
    "x1['Days_btw_launch_&_deadline'] = (x['deadline'] - x['launched']).dt.days\n",
    "x1.head()"
   ]
  },
  {
   "cell_type": "code",
   "execution_count": 10,
   "metadata": {},
   "outputs": [
    {
     "name": "stderr",
     "output_type": "stream",
     "text": [
      "/Users/noahxdeutsch/anaconda3/envs/learn-env/lib/python3.6/site-packages/ipykernel_launcher.py:2: SettingWithCopyWarning: \n",
      "A value is trying to be set on a copy of a slice from a DataFrame.\n",
      "Try using .loc[row_indexer,col_indexer] = value instead\n",
      "\n",
      "See the caveats in the documentation: http://pandas.pydata.org/pandas-docs/stable/indexing.html#indexing-view-versus-copy\n",
      "  \n",
      "/Users/noahxdeutsch/anaconda3/envs/learn-env/lib/python3.6/site-packages/ipykernel_launcher.py:5: SettingWithCopyWarning: \n",
      "A value is trying to be set on a copy of a slice from a DataFrame.\n",
      "Try using .loc[row_indexer,col_indexer] = value instead\n",
      "\n",
      "See the caveats in the documentation: http://pandas.pydata.org/pandas-docs/stable/indexing.html#indexing-view-versus-copy\n",
      "  \"\"\"\n"
     ]
    },
    {
     "data": {
      "text/plain": [
       "category                       object\n",
       "main_category                  object\n",
       "currency                       object\n",
       "goal                          float64\n",
       "country                        object\n",
       "Days_btw_launch_&_deadline      int64\n",
       "launch_month                   object\n",
       "dtype: object"
      ]
     },
     "execution_count": 10,
     "metadata": {},
     "output_type": "execute_result"
    }
   ],
   "source": [
    "#Let's add another column that indicates which month the project launched.\n",
    "x1['launch_month'] = x['launched'].dt.month\n",
    "\n",
    "#and make it a string so it's one hot encoded later\n",
    "x1['launch_month'] = x1['launch_month'].astype(str)\n",
    "x1.dtypes\n"
   ]
  },
  {
   "cell_type": "code",
   "execution_count": 11,
   "metadata": {},
   "outputs": [
    {
     "name": "stderr",
     "output_type": "stream",
     "text": [
      "/Users/noahxdeutsch/anaconda3/envs/learn-env/lib/python3.6/site-packages/ipykernel_launcher.py:3: SettingWithCopyWarning: \n",
      "A value is trying to be set on a copy of a slice from a DataFrame.\n",
      "Try using .loc[row_indexer,col_indexer] = value instead\n",
      "\n",
      "See the caveats in the documentation: http://pandas.pydata.org/pandas-docs/stable/indexing.html#indexing-view-versus-copy\n",
      "  This is separate from the ipykernel package so we can avoid doing imports until\n"
     ]
    },
    {
     "data": {
      "text/html": [
       "<div>\n",
       "<style scoped>\n",
       "    .dataframe tbody tr th:only-of-type {\n",
       "        vertical-align: middle;\n",
       "    }\n",
       "\n",
       "    .dataframe tbody tr th {\n",
       "        vertical-align: top;\n",
       "    }\n",
       "\n",
       "    .dataframe thead th {\n",
       "        text-align: right;\n",
       "    }\n",
       "</style>\n",
       "<table border=\"1\" class=\"dataframe\">\n",
       "  <thead>\n",
       "    <tr style=\"text-align: right;\">\n",
       "      <th></th>\n",
       "      <th>category</th>\n",
       "      <th>main_category</th>\n",
       "      <th>currency</th>\n",
       "      <th>goal</th>\n",
       "      <th>country</th>\n",
       "      <th>Days_btw_launch_&amp;_deadline</th>\n",
       "      <th>launch_month</th>\n",
       "      <th>words_in_name</th>\n",
       "    </tr>\n",
       "  </thead>\n",
       "  <tbody>\n",
       "    <tr>\n",
       "      <th>28550</th>\n",
       "      <td>Fashion</td>\n",
       "      <td>Fashion</td>\n",
       "      <td>USD</td>\n",
       "      <td>2500.0</td>\n",
       "      <td>US</td>\n",
       "      <td>29</td>\n",
       "      <td>2</td>\n",
       "      <td>7</td>\n",
       "    </tr>\n",
       "    <tr>\n",
       "      <th>206859</th>\n",
       "      <td>Fiction</td>\n",
       "      <td>Publishing</td>\n",
       "      <td>USD</td>\n",
       "      <td>18036.0</td>\n",
       "      <td>US</td>\n",
       "      <td>39</td>\n",
       "      <td>7</td>\n",
       "      <td>11</td>\n",
       "    </tr>\n",
       "    <tr>\n",
       "      <th>340059</th>\n",
       "      <td>Music</td>\n",
       "      <td>Music</td>\n",
       "      <td>USD</td>\n",
       "      <td>12000.0</td>\n",
       "      <td>US</td>\n",
       "      <td>29</td>\n",
       "      <td>10</td>\n",
       "      <td>7</td>\n",
       "    </tr>\n",
       "    <tr>\n",
       "      <th>224065</th>\n",
       "      <td>Fiction</td>\n",
       "      <td>Publishing</td>\n",
       "      <td>USD</td>\n",
       "      <td>2000.0</td>\n",
       "      <td>US</td>\n",
       "      <td>22</td>\n",
       "      <td>3</td>\n",
       "      <td>7</td>\n",
       "    </tr>\n",
       "    <tr>\n",
       "      <th>161757</th>\n",
       "      <td>Fiction</td>\n",
       "      <td>Publishing</td>\n",
       "      <td>USD</td>\n",
       "      <td>3570.0</td>\n",
       "      <td>US</td>\n",
       "      <td>59</td>\n",
       "      <td>4</td>\n",
       "      <td>12</td>\n",
       "    </tr>\n",
       "  </tbody>\n",
       "</table>\n",
       "</div>"
      ],
      "text/plain": [
       "       category main_category currency     goal country  \\\n",
       "28550   Fashion       Fashion      USD   2500.0      US   \n",
       "206859  Fiction    Publishing      USD  18036.0      US   \n",
       "340059    Music         Music      USD  12000.0      US   \n",
       "224065  Fiction    Publishing      USD   2000.0      US   \n",
       "161757  Fiction    Publishing      USD   3570.0      US   \n",
       "\n",
       "        Days_btw_launch_&_deadline launch_month  words_in_name  \n",
       "28550                           29            2              7  \n",
       "206859                          39            7             11  \n",
       "340059                          29           10              7  \n",
       "224065                          22            3              7  \n",
       "161757                          59            4             12  "
      ]
     },
     "execution_count": 11,
     "metadata": {},
     "output_type": "execute_result"
    }
   ],
   "source": [
    "#without getting too crazy into NLP world....\n",
    "#Let's add a column for number of words in the project name\n",
    "x1['words_in_name'] = ksdf['name'].str.split().str.len()\n",
    "x1.head()"
   ]
  },
  {
   "cell_type": "code",
   "execution_count": 12,
   "metadata": {},
   "outputs": [
    {
     "name": "stdout",
     "output_type": "stream",
     "text": [
      "[('the', 5294), ('-', 2953), ('a', 2823), ('of', 1879), ('and', 1215), ('for', 1131), ('to', 994), ('&', 971), ('new', 929), ('in', 928), ('album', 762), ('film', 709), ('by', 641), ('project', 519), ('book', 475), ('short', 428), ('an', 412), ('your', 401), ('art', 399), ('game', 388), ('first', 381), ('with', 371), ('debut', 362), ('on', 356), ('music', 332), ('help', 325), ('from', 284), ('at', 266), ('is', 247), ('ep', 238), ('documentary', 226), ('|', 219), ('you', 215), ('my', 214), ('cards', 174), ('tour', 172), ('love', 171), ('one', 170), ('make', 165), ('series', 163), ('video', 160), ('album!', 157), ('i', 156), ('life', 155), ('our', 153), ('festival', 151), ('card', 150), ('about', 149), ('world', 146), ('record', 145), ('cd', 142), ('2', 138), ('get', 136), ('show', 135), ('novel', 132), ('playing', 132), ('\"the', 131), ('studio', 126), ('edition', 125), ('1', 124), ('+', 123), ('story', 123), ('me', 122), ('dance', 120), ('be', 118), (':', 116), ('recording', 115), ('it', 115), ('little', 111), ('full', 107), ('/', 107), ('feature', 106), ('that', 104), ('city', 103), ('man', 103), ('board', 103), ('issue', 102), ('made', 102), (\"world's\", 101), ('fund', 101), ('rpg', 100), ('release', 100), ('all', 99), ('comic', 98), ('collection', 98), ('enamel', 95), ('adventure', 95), ('dice', 94), ('3d', 94), ('live', 93), ('fantasy', 93), ('us', 93), ('presents', 93), ('food', 92), ('we', 92), ('length', 91), ('season', 88), ('play', 88), ('space', 84), ('up', 83), ('home', 83), (\"children's\", 82), ('wallet', 82), ('vinyl', 82), ('their', 82), ('big', 81), ('time', 81), ('bring', 81), ('best', 80), ('2015', 79), ('watch', 78), ('magazine', 78), ('–', 77), ('theatre', 77), ('light', 77), ('making', 76), ('volume', 75), ('free', 75), ('coffee', 75), ('2014', 74), ('american', 74), ('out', 74), ('solo', 73), ('graphic', 72), ('day', 72), ('this', 72), ('kids', 72), ('de', 71), ('musical', 71), ('horror', 71), ('dark', 71), ('design', 70), ('no', 70), ('movie', 70), ('next', 70), ('summer', 70), ('photography', 69), ('into', 69), ('are', 69), ('band', 69), ('two', 68), ('night', 68), ('part', 68), ('comedy', 67), ('2013', 66), ('not', 66), ('smart', 65), ('exhibition', 64), ('rock', 64), ('or', 63), ('modern', 63), ('community', 63), ('2012', 63), ('original', 62), ('calendar', 62), ('black', 62), ('red', 61), ('more', 61), ('last', 61), ('how', 60), ('journey', 59), ('support', 59), ('leather', 59), ('company', 59), ('way', 59), ('#1', 59), ('burning', 58), ('good', 58), ('back', 58), ('la', 58), ('dead', 57), ('lost', 57), ('full-length', 57), ('performance', 56), ('most', 56), ('house', 56), ('pin', 56), ('year', 56), ('high', 56), ('great', 56), ('second', 56), ('pins', 55), ('2016', 55), ('stories', 55), ('ultimate', 54), ('project:', 53), ('through', 53), ('2017', 52), ('--', 52), ('her', 52), ('living', 51), ('like', 51), ('guide', 51), ('wild', 51), ('photo', 51), ('women', 51), ('deck', 51), ('street', 50), ('dog', 50), ('his', 50)]\n",
      "\n",
      "\n",
      "[('the', 8201), ('-', 4194), ('a', 3905), ('(canceled)', 3134), ('of', 3034), ('and', 2210), ('for', 2110), ('to', 1772), ('in', 1432), ('&', 1383), ('project', 890), ('new', 887), ('your', 849), ('with', 752), ('game', 746), ('film', 695), ('by', 687), ('book', 681), ('on', 633), ('album', 594), ('my', 571), ('art', 570), ('music', 561), ('an', 542), ('help', 457), ('first', 447), ('you', 383), ('life', 382), ('from', 379), ('world', 362), ('app', 354), ('is', 345), ('series', 328), ('documentary', 295), ('i', 294), ('short', 294), ('video', 287), ('food', 283), ('love', 277), ('one', 266), ('|', 264), ('story', 257), ('at', 247), ('debut', 244), ('all', 236), (':', 227), ('clothing', 224), ('novel', 222), ('\"the', 221), ('about', 217), ('it', 216), ('our', 215), ('me', 213), ('make', 211), ('be', 211), ('card', 206), ('movie', 205), ('show', 205), ('/', 199), ('that', 198), ('get', 194), ('tour', 193), ('mobile', 187), ('ep', 187), ('studio', 184), ('feature', 181), ('time', 179), ('made', 178), ('2', 176), ('up', 167), ('cd', 167), ('cards', 165), ('1', 163), ('live', 160), ('free', 158), ('social', 157), ('apparel', 157), ('fund', 156), ('fashion', 154), ('kids', 152), ('magazine', 150), (\"children's\", 148), ('no', 148), ('3d', 147), ('dream', 147), ('collection', 145), ('real', 144), ('through', 143), ('home', 142), ('photography', 142), ('design', 141), ('adventure', 141), (\"world's\", 139), ('system', 138), ('american', 136), ('best', 136), ('coffee', 136), ('journey', 134), ('(suspended)', 131), ('festival', 130), ('us', 129), ('way', 128), ('de', 128), ('big', 128), ('company', 127), ('family', 127), ('people', 126), ('black', 126), ('comic', 124), ('we', 123), ('recording', 123), ('needs', 123), ('city', 121), ('online', 121), ('man', 121), ('or', 120), ('custom', 119), ('board', 119), ('making', 118), ('iphone', 118), ('playing', 117), ('community', 116), ('truck', 116), ('into', 116), ('little', 116), ('out', 115), ('more', 115), ('not', 115), ('space', 115), ('smart', 113), ('dance', 113), ('day', 112), ('original', 111), ('are', 110), ('ultimate', 110), ('this', 110), ('great', 110), ('back', 109), ('support', 109), ('bring', 107), ('tv', 107), ('case', 107), ('launch', 106), ('horror', 106), ('play', 106), ('production', 105), ('can', 103), ('war', 102), ('web', 102), ('+', 102), ('light', 101), ('games', 100), ('house', 99), ('road', 99), ('dark', 99), ('what', 99), ('future', 98), ('part', 97), ('record', 97), ('how', 96), ('school', 96), ('next', 96), ('musical', 95), ('organic', 94), ('travel', 94), ('open', 94), ('la', 94), ('last', 94), ('line', 93), ('fantasy', 93), ('box', 93), ('dog', 93), ('power', 93), ('gaming', 92), ('go', 92), ('guide', 91), ('summer', 91), ('full', 91), ('adventures', 90), ('release', 90), ('vinyl', 90), ('high', 90), ('business', 90), ('calendar', 90), ('will', 89), ('just', 89), ('hand', 89), ('party', 89), ('unique', 89), ('modern', 89), ('do', 88), ('good', 88), ('edition', 87), ('photo', 87), ('rpg', 87), ('rock', 86), ('artist', 86), ('comedy', 86), ('true', 86), ('stories', 86)]\n"
     ]
    }
   ],
   "source": [
    "#Lastly, let's look at the most common words in project names for our successful and failed groups\n",
    "\n",
    "ksdf.name = ksdf.name.str.lower()\n",
    "\n",
    "from collections import Counter\n",
    "sWords = Counter(\" \".join(ksdf.loc[ksdf[\"state\"] == 'successful'][\"name\"]).split()).most_common(200)\n",
    "\n",
    "fWords = Counter(\" \".join(ksdf.loc[ksdf[\"state\"] == 'failed'][\"name\"]).split()).most_common(200)\n",
    "\n",
    "print(sWords)\n",
    "print('\\n')\n",
    "print(fWords)        "
   ]
  },
  {
   "cell_type": "code",
   "execution_count": 13,
   "metadata": {},
   "outputs": [
    {
     "data": {
      "text/plain": [
       "['album!',\n",
       " 'issue',\n",
       " 'enamel',\n",
       " 'dice',\n",
       " 'presents',\n",
       " 'length',\n",
       " 'season',\n",
       " 'wallet',\n",
       " 'their',\n",
       " '2015',\n",
       " 'watch',\n",
       " '–',\n",
       " 'theatre',\n",
       " 'volume',\n",
       " '2014',\n",
       " 'solo',\n",
       " 'graphic',\n",
       " 'band',\n",
       " 'two',\n",
       " 'night',\n",
       " '2013',\n",
       " 'exhibition',\n",
       " '2012',\n",
       " 'red',\n",
       " 'leather',\n",
       " '#1',\n",
       " 'burning',\n",
       " 'dead',\n",
       " 'lost',\n",
       " 'full-length',\n",
       " 'performance',\n",
       " 'most',\n",
       " 'pin',\n",
       " 'year',\n",
       " 'second',\n",
       " 'pins',\n",
       " '2016',\n",
       " 'project:',\n",
       " '2017',\n",
       " '--',\n",
       " 'her',\n",
       " 'living',\n",
       " 'like',\n",
       " 'wild',\n",
       " 'women',\n",
       " 'deck',\n",
       " 'street',\n",
       " 'his']"
      ]
     },
     "execution_count": 13,
     "metadata": {},
     "output_type": "execute_result"
    }
   ],
   "source": [
    "#A quick function for getting us the words that are in sWords, but not in fWords\n",
    "\n",
    "uniquewords = []\n",
    "for word in sWords:\n",
    "    status = 0\n",
    "    for word2 in fWords:\n",
    "        if word[0] == word2[0]:\n",
    "            status = 1\n",
    "    if status != 1:\n",
    "        uniquewords.append(word[0])\n",
    "\n",
    "uniquewords"
   ]
  },
  {
   "cell_type": "code",
   "execution_count": 14,
   "metadata": {},
   "outputs": [
    {
     "data": {
      "text/plain": [
       "['app',\n",
       " 'clothing',\n",
       " 'mobile',\n",
       " 'social',\n",
       " 'apparel',\n",
       " 'fashion',\n",
       " 'dream',\n",
       " 'real',\n",
       " 'system',\n",
       " '(suspended)',\n",
       " 'family',\n",
       " 'people',\n",
       " 'needs',\n",
       " 'online',\n",
       " 'custom',\n",
       " 'iphone',\n",
       " 'truck',\n",
       " 'tv',\n",
       " 'case',\n",
       " 'launch',\n",
       " 'production',\n",
       " 'can',\n",
       " 'war',\n",
       " 'web',\n",
       " 'games',\n",
       " 'road',\n",
       " 'what',\n",
       " 'future',\n",
       " 'school',\n",
       " 'organic',\n",
       " 'travel',\n",
       " 'open',\n",
       " 'line',\n",
       " 'box',\n",
       " 'power',\n",
       " 'gaming',\n",
       " 'go',\n",
       " 'adventures',\n",
       " 'business',\n",
       " 'will',\n",
       " 'just',\n",
       " 'hand',\n",
       " 'party',\n",
       " 'unique',\n",
       " 'do',\n",
       " 'artist',\n",
       " 'true']"
      ]
     },
     "execution_count": 14,
     "metadata": {},
     "output_type": "execute_result"
    }
   ],
   "source": [
    "#The inverse of the above\n",
    "\n",
    "uniquewords1 = []\n",
    "for word in fWords:\n",
    "    status = 0\n",
    "    for word2 in sWords:\n",
    "        if word[0] == word2[0]:\n",
    "            status = 1\n",
    "    if status != 1:\n",
    "        uniquewords1.append(word[0])\n",
    "\n",
    "uniquewords1 = uniquewords1[1:]\n",
    "\n",
    "uniquewords1"
   ]
  },
  {
   "cell_type": "code",
   "execution_count": 15,
   "metadata": {},
   "outputs": [
    {
     "name": "stderr",
     "output_type": "stream",
     "text": [
      "/Users/noahxdeutsch/anaconda3/envs/learn-env/lib/python3.6/site-packages/ipykernel_launcher.py:5: SettingWithCopyWarning: \n",
      "A value is trying to be set on a copy of a slice from a DataFrame.\n",
      "Try using .loc[row_indexer,col_indexer] = value instead\n",
      "\n",
      "See the caveats in the documentation: http://pandas.pydata.org/pandas-docs/stable/indexing.html#indexing-view-versus-copy\n",
      "  \"\"\"\n"
     ]
    },
    {
     "name": "stdout",
     "output_type": "stream",
     "text": [
      "8 to -> 103\n"
     ]
    },
    {
     "data": {
      "text/html": [
       "<div>\n",
       "<style scoped>\n",
       "    .dataframe tbody tr th:only-of-type {\n",
       "        vertical-align: middle;\n",
       "    }\n",
       "\n",
       "    .dataframe tbody tr th {\n",
       "        vertical-align: top;\n",
       "    }\n",
       "\n",
       "    .dataframe thead th {\n",
       "        text-align: right;\n",
       "    }\n",
       "</style>\n",
       "<table border=\"1\" class=\"dataframe\">\n",
       "  <thead>\n",
       "    <tr style=\"text-align: right;\">\n",
       "      <th></th>\n",
       "      <th>goal</th>\n",
       "      <th>Days_btw_launch_&amp;_deadline</th>\n",
       "      <th>words_in_name</th>\n",
       "      <th>contains_album!</th>\n",
       "      <th>contains_issue</th>\n",
       "      <th>contains_enamel</th>\n",
       "      <th>contains_dice</th>\n",
       "      <th>contains_presents</th>\n",
       "      <th>contains_length</th>\n",
       "      <th>contains_season</th>\n",
       "      <th>...</th>\n",
       "      <th>contains_adventures</th>\n",
       "      <th>contains_business</th>\n",
       "      <th>contains_will</th>\n",
       "      <th>contains_just</th>\n",
       "      <th>contains_hand</th>\n",
       "      <th>contains_party</th>\n",
       "      <th>contains_unique</th>\n",
       "      <th>contains_do</th>\n",
       "      <th>contains_artist</th>\n",
       "      <th>contains_true</th>\n",
       "    </tr>\n",
       "  </thead>\n",
       "  <tbody>\n",
       "    <tr>\n",
       "      <th>count</th>\n",
       "      <td>5.000000e+04</td>\n",
       "      <td>50000.000000</td>\n",
       "      <td>50000.000000</td>\n",
       "      <td>50000.000000</td>\n",
       "      <td>50000.000000</td>\n",
       "      <td>50000.000000</td>\n",
       "      <td>50000.000000</td>\n",
       "      <td>50000.000000</td>\n",
       "      <td>50000.000000</td>\n",
       "      <td>50000.000000</td>\n",
       "      <td>...</td>\n",
       "      <td>50000.000000</td>\n",
       "      <td>50000.000000</td>\n",
       "      <td>50000.000000</td>\n",
       "      <td>50000.000000</td>\n",
       "      <td>50000.000000</td>\n",
       "      <td>50000.000000</td>\n",
       "      <td>50000.000000</td>\n",
       "      <td>50000.000000</td>\n",
       "      <td>50000.000000</td>\n",
       "      <td>50000.000000</td>\n",
       "    </tr>\n",
       "    <tr>\n",
       "      <th>mean</th>\n",
       "      <td>5.588778e+04</td>\n",
       "      <td>33.562980</td>\n",
       "      <td>5.692980</td>\n",
       "      <td>0.005000</td>\n",
       "      <td>0.003900</td>\n",
       "      <td>0.002740</td>\n",
       "      <td>0.003040</td>\n",
       "      <td>0.004480</td>\n",
       "      <td>0.004920</td>\n",
       "      <td>0.004340</td>\n",
       "      <td>...</td>\n",
       "      <td>0.002960</td>\n",
       "      <td>0.002760</td>\n",
       "      <td>0.004160</td>\n",
       "      <td>0.004360</td>\n",
       "      <td>0.011580</td>\n",
       "      <td>0.003200</td>\n",
       "      <td>0.002960</td>\n",
       "      <td>0.058260</td>\n",
       "      <td>0.005520</td>\n",
       "      <td>0.002800</td>\n",
       "    </tr>\n",
       "    <tr>\n",
       "      <th>std</th>\n",
       "      <td>1.425785e+06</td>\n",
       "      <td>75.796409</td>\n",
       "      <td>2.763011</td>\n",
       "      <td>0.070534</td>\n",
       "      <td>0.062329</td>\n",
       "      <td>0.052274</td>\n",
       "      <td>0.055053</td>\n",
       "      <td>0.066783</td>\n",
       "      <td>0.069971</td>\n",
       "      <td>0.065736</td>\n",
       "      <td>...</td>\n",
       "      <td>0.054326</td>\n",
       "      <td>0.052464</td>\n",
       "      <td>0.064364</td>\n",
       "      <td>0.065887</td>\n",
       "      <td>0.106987</td>\n",
       "      <td>0.056479</td>\n",
       "      <td>0.054326</td>\n",
       "      <td>0.234237</td>\n",
       "      <td>0.074092</td>\n",
       "      <td>0.052841</td>\n",
       "    </tr>\n",
       "    <tr>\n",
       "      <th>min</th>\n",
       "      <td>1.000000e+00</td>\n",
       "      <td>0.000000</td>\n",
       "      <td>1.000000</td>\n",
       "      <td>0.000000</td>\n",
       "      <td>0.000000</td>\n",
       "      <td>0.000000</td>\n",
       "      <td>0.000000</td>\n",
       "      <td>0.000000</td>\n",
       "      <td>0.000000</td>\n",
       "      <td>0.000000</td>\n",
       "      <td>...</td>\n",
       "      <td>0.000000</td>\n",
       "      <td>0.000000</td>\n",
       "      <td>0.000000</td>\n",
       "      <td>0.000000</td>\n",
       "      <td>0.000000</td>\n",
       "      <td>0.000000</td>\n",
       "      <td>0.000000</td>\n",
       "      <td>0.000000</td>\n",
       "      <td>0.000000</td>\n",
       "      <td>0.000000</td>\n",
       "    </tr>\n",
       "    <tr>\n",
       "      <th>25%</th>\n",
       "      <td>2.000000e+03</td>\n",
       "      <td>29.000000</td>\n",
       "      <td>3.000000</td>\n",
       "      <td>0.000000</td>\n",
       "      <td>0.000000</td>\n",
       "      <td>0.000000</td>\n",
       "      <td>0.000000</td>\n",
       "      <td>0.000000</td>\n",
       "      <td>0.000000</td>\n",
       "      <td>0.000000</td>\n",
       "      <td>...</td>\n",
       "      <td>0.000000</td>\n",
       "      <td>0.000000</td>\n",
       "      <td>0.000000</td>\n",
       "      <td>0.000000</td>\n",
       "      <td>0.000000</td>\n",
       "      <td>0.000000</td>\n",
       "      <td>0.000000</td>\n",
       "      <td>0.000000</td>\n",
       "      <td>0.000000</td>\n",
       "      <td>0.000000</td>\n",
       "    </tr>\n",
       "    <tr>\n",
       "      <th>50%</th>\n",
       "      <td>5.500000e+03</td>\n",
       "      <td>29.000000</td>\n",
       "      <td>5.000000</td>\n",
       "      <td>0.000000</td>\n",
       "      <td>0.000000</td>\n",
       "      <td>0.000000</td>\n",
       "      <td>0.000000</td>\n",
       "      <td>0.000000</td>\n",
       "      <td>0.000000</td>\n",
       "      <td>0.000000</td>\n",
       "      <td>...</td>\n",
       "      <td>0.000000</td>\n",
       "      <td>0.000000</td>\n",
       "      <td>0.000000</td>\n",
       "      <td>0.000000</td>\n",
       "      <td>0.000000</td>\n",
       "      <td>0.000000</td>\n",
       "      <td>0.000000</td>\n",
       "      <td>0.000000</td>\n",
       "      <td>0.000000</td>\n",
       "      <td>0.000000</td>\n",
       "    </tr>\n",
       "    <tr>\n",
       "      <th>75%</th>\n",
       "      <td>1.650000e+04</td>\n",
       "      <td>36.000000</td>\n",
       "      <td>8.000000</td>\n",
       "      <td>0.000000</td>\n",
       "      <td>0.000000</td>\n",
       "      <td>0.000000</td>\n",
       "      <td>0.000000</td>\n",
       "      <td>0.000000</td>\n",
       "      <td>0.000000</td>\n",
       "      <td>0.000000</td>\n",
       "      <td>...</td>\n",
       "      <td>0.000000</td>\n",
       "      <td>0.000000</td>\n",
       "      <td>0.000000</td>\n",
       "      <td>0.000000</td>\n",
       "      <td>0.000000</td>\n",
       "      <td>0.000000</td>\n",
       "      <td>0.000000</td>\n",
       "      <td>0.000000</td>\n",
       "      <td>0.000000</td>\n",
       "      <td>0.000000</td>\n",
       "    </tr>\n",
       "    <tr>\n",
       "      <th>max</th>\n",
       "      <td>1.000000e+08</td>\n",
       "      <td>16738.000000</td>\n",
       "      <td>21.000000</td>\n",
       "      <td>1.000000</td>\n",
       "      <td>1.000000</td>\n",
       "      <td>1.000000</td>\n",
       "      <td>1.000000</td>\n",
       "      <td>1.000000</td>\n",
       "      <td>1.000000</td>\n",
       "      <td>1.000000</td>\n",
       "      <td>...</td>\n",
       "      <td>1.000000</td>\n",
       "      <td>1.000000</td>\n",
       "      <td>1.000000</td>\n",
       "      <td>1.000000</td>\n",
       "      <td>1.000000</td>\n",
       "      <td>1.000000</td>\n",
       "      <td>1.000000</td>\n",
       "      <td>1.000000</td>\n",
       "      <td>1.000000</td>\n",
       "      <td>1.000000</td>\n",
       "    </tr>\n",
       "  </tbody>\n",
       "</table>\n",
       "<p>8 rows × 98 columns</p>\n",
       "</div>"
      ],
      "text/plain": [
       "               goal  Days_btw_launch_&_deadline  words_in_name  \\\n",
       "count  5.000000e+04                50000.000000   50000.000000   \n",
       "mean   5.588778e+04                   33.562980       5.692980   \n",
       "std    1.425785e+06                   75.796409       2.763011   \n",
       "min    1.000000e+00                    0.000000       1.000000   \n",
       "25%    2.000000e+03                   29.000000       3.000000   \n",
       "50%    5.500000e+03                   29.000000       5.000000   \n",
       "75%    1.650000e+04                   36.000000       8.000000   \n",
       "max    1.000000e+08                16738.000000      21.000000   \n",
       "\n",
       "       contains_album!  contains_issue  contains_enamel  contains_dice  \\\n",
       "count     50000.000000    50000.000000     50000.000000   50000.000000   \n",
       "mean          0.005000        0.003900         0.002740       0.003040   \n",
       "std           0.070534        0.062329         0.052274       0.055053   \n",
       "min           0.000000        0.000000         0.000000       0.000000   \n",
       "25%           0.000000        0.000000         0.000000       0.000000   \n",
       "50%           0.000000        0.000000         0.000000       0.000000   \n",
       "75%           0.000000        0.000000         0.000000       0.000000   \n",
       "max           1.000000        1.000000         1.000000       1.000000   \n",
       "\n",
       "       contains_presents  contains_length  contains_season      ...        \\\n",
       "count       50000.000000     50000.000000     50000.000000      ...         \n",
       "mean            0.004480         0.004920         0.004340      ...         \n",
       "std             0.066783         0.069971         0.065736      ...         \n",
       "min             0.000000         0.000000         0.000000      ...         \n",
       "25%             0.000000         0.000000         0.000000      ...         \n",
       "50%             0.000000         0.000000         0.000000      ...         \n",
       "75%             0.000000         0.000000         0.000000      ...         \n",
       "max             1.000000         1.000000         1.000000      ...         \n",
       "\n",
       "       contains_adventures  contains_business  contains_will  contains_just  \\\n",
       "count         50000.000000       50000.000000   50000.000000   50000.000000   \n",
       "mean              0.002960           0.002760       0.004160       0.004360   \n",
       "std               0.054326           0.052464       0.064364       0.065887   \n",
       "min               0.000000           0.000000       0.000000       0.000000   \n",
       "25%               0.000000           0.000000       0.000000       0.000000   \n",
       "50%               0.000000           0.000000       0.000000       0.000000   \n",
       "75%               0.000000           0.000000       0.000000       0.000000   \n",
       "max               1.000000           1.000000       1.000000       1.000000   \n",
       "\n",
       "       contains_hand  contains_party  contains_unique   contains_do  \\\n",
       "count   50000.000000    50000.000000     50000.000000  50000.000000   \n",
       "mean        0.011580        0.003200         0.002960      0.058260   \n",
       "std         0.106987        0.056479         0.054326      0.234237   \n",
       "min         0.000000        0.000000         0.000000      0.000000   \n",
       "25%         0.000000        0.000000         0.000000      0.000000   \n",
       "50%         0.000000        0.000000         0.000000      0.000000   \n",
       "75%         0.000000        0.000000         0.000000      0.000000   \n",
       "max         1.000000        1.000000         1.000000      1.000000   \n",
       "\n",
       "       contains_artist  contains_true  \n",
       "count     50000.000000   50000.000000  \n",
       "mean          0.005520       0.002800  \n",
       "std           0.074092       0.052841  \n",
       "min           0.000000       0.000000  \n",
       "25%           0.000000       0.000000  \n",
       "50%           0.000000       0.000000  \n",
       "75%           0.000000       0.000000  \n",
       "max           1.000000       1.000000  \n",
       "\n",
       "[8 rows x 98 columns]"
      ]
     },
     "execution_count": 15,
     "metadata": {},
     "output_type": "execute_result"
    }
   ],
   "source": [
    "#adding columns to our X for each word\n",
    "\n",
    "orig_length = len(x1.columns)\n",
    "\n",
    "for word in uniquewords:\n",
    "    label = 'contains_'+str(word)\n",
    "    x1[label] = [1 if word in x else 0 for x in ksdf['name']]\n",
    "\n",
    "for word in uniquewords1:\n",
    "    label = 'contains_'+str(word)\n",
    "    x1[label] = [1 if word in x else 0 for x in ksdf['name']]\n",
    "    \n",
    "print(orig_length, 'to ->', len(x1.columns))\n",
    "x1.describe()"
   ]
  },
  {
   "cell_type": "code",
   "execution_count": 16,
   "metadata": {},
   "outputs": [
    {
     "data": {
      "text/plain": [
       "28550         failed\n",
       "206859        failed\n",
       "340059    successful\n",
       "224065        failed\n",
       "161757        failed\n",
       "Name: state, dtype: object"
      ]
     },
     "execution_count": 16,
     "metadata": {},
     "output_type": "execute_result"
    }
   ],
   "source": [
    "#Great. Let's take a look at our Y column\n",
    "y.head()"
   ]
  },
  {
   "cell_type": "code",
   "execution_count": 17,
   "metadata": {},
   "outputs": [
    {
     "data": {
      "text/html": [
       "<div>\n",
       "<style scoped>\n",
       "    .dataframe tbody tr th:only-of-type {\n",
       "        vertical-align: middle;\n",
       "    }\n",
       "\n",
       "    .dataframe tbody tr th {\n",
       "        vertical-align: top;\n",
       "    }\n",
       "\n",
       "    .dataframe thead th {\n",
       "        text-align: right;\n",
       "    }\n",
       "</style>\n",
       "<table border=\"1\" class=\"dataframe\">\n",
       "  <thead>\n",
       "    <tr style=\"text-align: right;\">\n",
       "      <th></th>\n",
       "      <th>0</th>\n",
       "    </tr>\n",
       "  </thead>\n",
       "  <tbody>\n",
       "    <tr>\n",
       "      <th>0</th>\n",
       "      <td>0</td>\n",
       "    </tr>\n",
       "    <tr>\n",
       "      <th>1</th>\n",
       "      <td>0</td>\n",
       "    </tr>\n",
       "    <tr>\n",
       "      <th>2</th>\n",
       "      <td>1</td>\n",
       "    </tr>\n",
       "    <tr>\n",
       "      <th>3</th>\n",
       "      <td>0</td>\n",
       "    </tr>\n",
       "    <tr>\n",
       "      <th>4</th>\n",
       "      <td>0</td>\n",
       "    </tr>\n",
       "  </tbody>\n",
       "</table>\n",
       "</div>"
      ],
      "text/plain": [
       "   0\n",
       "0  0\n",
       "1  0\n",
       "2  1\n",
       "3  0\n",
       "4  0"
      ]
     },
     "execution_count": 17,
     "metadata": {},
     "output_type": "execute_result"
    }
   ],
   "source": [
    "#Let's label encode our Y\n",
    "\n",
    "from sklearn import preprocessing\n",
    "\n",
    "le = preprocessing.LabelEncoder()\n",
    "le.fit(y)\n",
    "y = le.transform(y)\n",
    "y = pd.DataFrame(y)\n",
    "y.head()"
   ]
  },
  {
   "cell_type": "code",
   "execution_count": 18,
   "metadata": {},
   "outputs": [
    {
     "name": "stdout",
     "output_type": "stream",
     "text": [
      "(50000, 321)\n"
     ]
    },
    {
     "data": {
      "text/plain": [
       "Index(['goal', 'Days_btw_launch_&_deadline', 'words_in_name',\n",
       "       'contains_album!', 'contains_issue', 'contains_enamel', 'contains_dice',\n",
       "       'contains_presents', 'contains_length', 'contains_season',\n",
       "       ...\n",
       "       'launch_month_11', 'launch_month_12', 'launch_month_2',\n",
       "       'launch_month_3', 'launch_month_4', 'launch_month_5', 'launch_month_6',\n",
       "       'launch_month_7', 'launch_month_8', 'launch_month_9'],\n",
       "      dtype='object', length=321)"
      ]
     },
     "execution_count": 18,
     "metadata": {},
     "output_type": "execute_result"
    }
   ],
   "source": [
    "#And finally, let's get dummies for the non continuous variables in our X\n",
    "\n",
    "x2 = pd.get_dummies(x1)\n",
    "print(x2.shape)\n",
    "x2.columns"
   ]
  },
  {
   "cell_type": "code",
   "execution_count": 19,
   "metadata": {},
   "outputs": [
    {
     "name": "stderr",
     "output_type": "stream",
     "text": [
      "/Users/noahxdeutsch/anaconda3/envs/learn-env/lib/python3.6/site-packages/sklearn/preprocessing/data.py:323: DataConversionWarning: Data with input dtype uint8, int64, float64 were all converted to float64 by MinMaxScaler.\n",
      "  return self.partial_fit(X, y)\n"
     ]
    },
    {
     "data": {
      "text/html": [
       "<div>\n",
       "<style scoped>\n",
       "    .dataframe tbody tr th:only-of-type {\n",
       "        vertical-align: middle;\n",
       "    }\n",
       "\n",
       "    .dataframe tbody tr th {\n",
       "        vertical-align: top;\n",
       "    }\n",
       "\n",
       "    .dataframe thead th {\n",
       "        text-align: right;\n",
       "    }\n",
       "</style>\n",
       "<table border=\"1\" class=\"dataframe\">\n",
       "  <thead>\n",
       "    <tr style=\"text-align: right;\">\n",
       "      <th></th>\n",
       "      <th>0</th>\n",
       "      <th>1</th>\n",
       "      <th>2</th>\n",
       "      <th>3</th>\n",
       "      <th>4</th>\n",
       "      <th>5</th>\n",
       "      <th>6</th>\n",
       "      <th>7</th>\n",
       "      <th>8</th>\n",
       "      <th>9</th>\n",
       "      <th>...</th>\n",
       "      <th>311</th>\n",
       "      <th>312</th>\n",
       "      <th>313</th>\n",
       "      <th>314</th>\n",
       "      <th>315</th>\n",
       "      <th>316</th>\n",
       "      <th>317</th>\n",
       "      <th>318</th>\n",
       "      <th>319</th>\n",
       "      <th>320</th>\n",
       "    </tr>\n",
       "  </thead>\n",
       "  <tbody>\n",
       "    <tr>\n",
       "      <th>count</th>\n",
       "      <td>50000.000000</td>\n",
       "      <td>50000.000000</td>\n",
       "      <td>50000.000000</td>\n",
       "      <td>50000.000000</td>\n",
       "      <td>50000.000000</td>\n",
       "      <td>50000.000000</td>\n",
       "      <td>50000.000000</td>\n",
       "      <td>50000.000000</td>\n",
       "      <td>50000.000000</td>\n",
       "      <td>50000.000000</td>\n",
       "      <td>...</td>\n",
       "      <td>50000.000000</td>\n",
       "      <td>50000.000000</td>\n",
       "      <td>50000.000000</td>\n",
       "      <td>50000.000000</td>\n",
       "      <td>50000.000000</td>\n",
       "      <td>50000.000000</td>\n",
       "      <td>50000.000000</td>\n",
       "      <td>50000.00000</td>\n",
       "      <td>50000.000000</td>\n",
       "      <td>50000.000000</td>\n",
       "    </tr>\n",
       "    <tr>\n",
       "      <th>mean</th>\n",
       "      <td>0.000559</td>\n",
       "      <td>0.002005</td>\n",
       "      <td>0.234649</td>\n",
       "      <td>0.005000</td>\n",
       "      <td>0.003900</td>\n",
       "      <td>0.002740</td>\n",
       "      <td>0.003040</td>\n",
       "      <td>0.004480</td>\n",
       "      <td>0.004920</td>\n",
       "      <td>0.004340</td>\n",
       "      <td>...</td>\n",
       "      <td>0.084900</td>\n",
       "      <td>0.056380</td>\n",
       "      <td>0.076360</td>\n",
       "      <td>0.092140</td>\n",
       "      <td>0.087420</td>\n",
       "      <td>0.088440</td>\n",
       "      <td>0.085980</td>\n",
       "      <td>0.09664</td>\n",
       "      <td>0.084800</td>\n",
       "      <td>0.083940</td>\n",
       "    </tr>\n",
       "    <tr>\n",
       "      <th>std</th>\n",
       "      <td>0.014258</td>\n",
       "      <td>0.004528</td>\n",
       "      <td>0.138151</td>\n",
       "      <td>0.070534</td>\n",
       "      <td>0.062329</td>\n",
       "      <td>0.052274</td>\n",
       "      <td>0.055053</td>\n",
       "      <td>0.066783</td>\n",
       "      <td>0.069971</td>\n",
       "      <td>0.065736</td>\n",
       "      <td>...</td>\n",
       "      <td>0.278736</td>\n",
       "      <td>0.230656</td>\n",
       "      <td>0.265576</td>\n",
       "      <td>0.289226</td>\n",
       "      <td>0.282452</td>\n",
       "      <td>0.283937</td>\n",
       "      <td>0.280337</td>\n",
       "      <td>0.29547</td>\n",
       "      <td>0.278587</td>\n",
       "      <td>0.277301</td>\n",
       "    </tr>\n",
       "    <tr>\n",
       "      <th>min</th>\n",
       "      <td>0.000000</td>\n",
       "      <td>0.000000</td>\n",
       "      <td>0.000000</td>\n",
       "      <td>0.000000</td>\n",
       "      <td>0.000000</td>\n",
       "      <td>0.000000</td>\n",
       "      <td>0.000000</td>\n",
       "      <td>0.000000</td>\n",
       "      <td>0.000000</td>\n",
       "      <td>0.000000</td>\n",
       "      <td>...</td>\n",
       "      <td>0.000000</td>\n",
       "      <td>0.000000</td>\n",
       "      <td>0.000000</td>\n",
       "      <td>0.000000</td>\n",
       "      <td>0.000000</td>\n",
       "      <td>0.000000</td>\n",
       "      <td>0.000000</td>\n",
       "      <td>0.00000</td>\n",
       "      <td>0.000000</td>\n",
       "      <td>0.000000</td>\n",
       "    </tr>\n",
       "    <tr>\n",
       "      <th>25%</th>\n",
       "      <td>0.000020</td>\n",
       "      <td>0.001733</td>\n",
       "      <td>0.100000</td>\n",
       "      <td>0.000000</td>\n",
       "      <td>0.000000</td>\n",
       "      <td>0.000000</td>\n",
       "      <td>0.000000</td>\n",
       "      <td>0.000000</td>\n",
       "      <td>0.000000</td>\n",
       "      <td>0.000000</td>\n",
       "      <td>...</td>\n",
       "      <td>0.000000</td>\n",
       "      <td>0.000000</td>\n",
       "      <td>0.000000</td>\n",
       "      <td>0.000000</td>\n",
       "      <td>0.000000</td>\n",
       "      <td>0.000000</td>\n",
       "      <td>0.000000</td>\n",
       "      <td>0.00000</td>\n",
       "      <td>0.000000</td>\n",
       "      <td>0.000000</td>\n",
       "    </tr>\n",
       "    <tr>\n",
       "      <th>50%</th>\n",
       "      <td>0.000055</td>\n",
       "      <td>0.001733</td>\n",
       "      <td>0.200000</td>\n",
       "      <td>0.000000</td>\n",
       "      <td>0.000000</td>\n",
       "      <td>0.000000</td>\n",
       "      <td>0.000000</td>\n",
       "      <td>0.000000</td>\n",
       "      <td>0.000000</td>\n",
       "      <td>0.000000</td>\n",
       "      <td>...</td>\n",
       "      <td>0.000000</td>\n",
       "      <td>0.000000</td>\n",
       "      <td>0.000000</td>\n",
       "      <td>0.000000</td>\n",
       "      <td>0.000000</td>\n",
       "      <td>0.000000</td>\n",
       "      <td>0.000000</td>\n",
       "      <td>0.00000</td>\n",
       "      <td>0.000000</td>\n",
       "      <td>0.000000</td>\n",
       "    </tr>\n",
       "    <tr>\n",
       "      <th>75%</th>\n",
       "      <td>0.000165</td>\n",
       "      <td>0.002151</td>\n",
       "      <td>0.350000</td>\n",
       "      <td>0.000000</td>\n",
       "      <td>0.000000</td>\n",
       "      <td>0.000000</td>\n",
       "      <td>0.000000</td>\n",
       "      <td>0.000000</td>\n",
       "      <td>0.000000</td>\n",
       "      <td>0.000000</td>\n",
       "      <td>...</td>\n",
       "      <td>0.000000</td>\n",
       "      <td>0.000000</td>\n",
       "      <td>0.000000</td>\n",
       "      <td>0.000000</td>\n",
       "      <td>0.000000</td>\n",
       "      <td>0.000000</td>\n",
       "      <td>0.000000</td>\n",
       "      <td>0.00000</td>\n",
       "      <td>0.000000</td>\n",
       "      <td>0.000000</td>\n",
       "    </tr>\n",
       "    <tr>\n",
       "      <th>max</th>\n",
       "      <td>1.000000</td>\n",
       "      <td>1.000000</td>\n",
       "      <td>1.000000</td>\n",
       "      <td>1.000000</td>\n",
       "      <td>1.000000</td>\n",
       "      <td>1.000000</td>\n",
       "      <td>1.000000</td>\n",
       "      <td>1.000000</td>\n",
       "      <td>1.000000</td>\n",
       "      <td>1.000000</td>\n",
       "      <td>...</td>\n",
       "      <td>1.000000</td>\n",
       "      <td>1.000000</td>\n",
       "      <td>1.000000</td>\n",
       "      <td>1.000000</td>\n",
       "      <td>1.000000</td>\n",
       "      <td>1.000000</td>\n",
       "      <td>1.000000</td>\n",
       "      <td>1.00000</td>\n",
       "      <td>1.000000</td>\n",
       "      <td>1.000000</td>\n",
       "    </tr>\n",
       "  </tbody>\n",
       "</table>\n",
       "<p>8 rows × 321 columns</p>\n",
       "</div>"
      ],
      "text/plain": [
       "                0             1             2             3             4    \\\n",
       "count  50000.000000  50000.000000  50000.000000  50000.000000  50000.000000   \n",
       "mean       0.000559      0.002005      0.234649      0.005000      0.003900   \n",
       "std        0.014258      0.004528      0.138151      0.070534      0.062329   \n",
       "min        0.000000      0.000000      0.000000      0.000000      0.000000   \n",
       "25%        0.000020      0.001733      0.100000      0.000000      0.000000   \n",
       "50%        0.000055      0.001733      0.200000      0.000000      0.000000   \n",
       "75%        0.000165      0.002151      0.350000      0.000000      0.000000   \n",
       "max        1.000000      1.000000      1.000000      1.000000      1.000000   \n",
       "\n",
       "                5             6             7             8             9    \\\n",
       "count  50000.000000  50000.000000  50000.000000  50000.000000  50000.000000   \n",
       "mean       0.002740      0.003040      0.004480      0.004920      0.004340   \n",
       "std        0.052274      0.055053      0.066783      0.069971      0.065736   \n",
       "min        0.000000      0.000000      0.000000      0.000000      0.000000   \n",
       "25%        0.000000      0.000000      0.000000      0.000000      0.000000   \n",
       "50%        0.000000      0.000000      0.000000      0.000000      0.000000   \n",
       "75%        0.000000      0.000000      0.000000      0.000000      0.000000   \n",
       "max        1.000000      1.000000      1.000000      1.000000      1.000000   \n",
       "\n",
       "           ...                311           312           313           314  \\\n",
       "count      ...       50000.000000  50000.000000  50000.000000  50000.000000   \n",
       "mean       ...           0.084900      0.056380      0.076360      0.092140   \n",
       "std        ...           0.278736      0.230656      0.265576      0.289226   \n",
       "min        ...           0.000000      0.000000      0.000000      0.000000   \n",
       "25%        ...           0.000000      0.000000      0.000000      0.000000   \n",
       "50%        ...           0.000000      0.000000      0.000000      0.000000   \n",
       "75%        ...           0.000000      0.000000      0.000000      0.000000   \n",
       "max        ...           1.000000      1.000000      1.000000      1.000000   \n",
       "\n",
       "                315           316           317          318           319  \\\n",
       "count  50000.000000  50000.000000  50000.000000  50000.00000  50000.000000   \n",
       "mean       0.087420      0.088440      0.085980      0.09664      0.084800   \n",
       "std        0.282452      0.283937      0.280337      0.29547      0.278587   \n",
       "min        0.000000      0.000000      0.000000      0.00000      0.000000   \n",
       "25%        0.000000      0.000000      0.000000      0.00000      0.000000   \n",
       "50%        0.000000      0.000000      0.000000      0.00000      0.000000   \n",
       "75%        0.000000      0.000000      0.000000      0.00000      0.000000   \n",
       "max        1.000000      1.000000      1.000000      1.00000      1.000000   \n",
       "\n",
       "                320  \n",
       "count  50000.000000  \n",
       "mean       0.083940  \n",
       "std        0.277301  \n",
       "min        0.000000  \n",
       "25%        0.000000  \n",
       "50%        0.000000  \n",
       "75%        0.000000  \n",
       "max        1.000000  \n",
       "\n",
       "[8 rows x 321 columns]"
      ]
     },
     "execution_count": 19,
     "metadata": {},
     "output_type": "execute_result"
    }
   ],
   "source": [
    "#Looks good!\n",
    "#Now let's normalize our data.\n",
    "\n",
    "from sklearn.preprocessing import MinMaxScaler\n",
    "\n",
    "scaler = MinMaxScaler()\n",
    "\n",
    "x3 = scaler.fit_transform(x2)\n",
    "\n",
    "pd.DataFrame(x3).describe()"
   ]
  },
  {
   "cell_type": "code",
   "execution_count": 20,
   "metadata": {},
   "outputs": [],
   "source": [
    "#Great! And lastly, let's create our train test splits.\n",
    "\n",
    "from sklearn.model_selection import train_test_split\n",
    "X_train, X_test, y_train, y_test = train_test_split(x3, y, stratify=y,random_state=0)"
   ]
  },
  {
   "cell_type": "markdown",
   "metadata": {},
   "source": [
    "---\n",
    "## Model, Compare, and Refine √\n",
    "- Fit baseline models\n",
    "- Compare results\n",
    "- Optimize models wih GridSearch\n",
    "- Compare results"
   ]
  },
  {
   "cell_type": "code",
   "execution_count": 24,
   "metadata": {},
   "outputs": [],
   "source": [
    "#Importing for our modeling!\n",
    "\n",
    "from sklearn.tree import DecisionTreeClassifier \n",
    "from sklearn.ensemble import RandomForestClassifier\n",
    "from sklearn.ensemble import AdaBoostClassifier\n",
    "from sklearn.svm import LinearSVC\n",
    "import os\n",
    "os.environ['KMP_DUPLICATE_LIB_OK']='True' #This fixes a bug in XGB that crashes the Kernel\n",
    "import xgboost as xgb\n",
    "\n",
    "from sklearn.metrics import accuracy_score\n",
    "from sklearn.model_selection import GridSearchCV\n",
    "\n",
    "import warnings\n",
    "warnings.filterwarnings('ignore')\n",
    "\n",
    "import itertools\n",
    "from sklearn.metrics import confusion_matrix"
   ]
  },
  {
   "cell_type": "code",
   "execution_count": 25,
   "metadata": {},
   "outputs": [],
   "source": [
    "#Create a dictionary for holding results\n",
    "\n",
    "model_comparison = {}"
   ]
  },
  {
   "cell_type": "markdown",
   "metadata": {},
   "source": [
    "### Baseline Models"
   ]
  },
  {
   "cell_type": "code",
   "execution_count": 26,
   "metadata": {},
   "outputs": [
    {
     "name": "stdout",
     "output_type": "stream",
     "text": [
      "Training Accuracy: 99.77%\n",
      "Validation accuracy: 62.8%\n"
     ]
    }
   ],
   "source": [
    "#Baseline Decision Tree\n",
    "\n",
    "dt_clf = DecisionTreeClassifier()\n",
    "dt_clf.fit(X_train, y_train)\n",
    "training_preds = dt_clf.predict(X_train)\n",
    "val_preds = dt_clf.predict(X_test)\n",
    "training_accuracy = accuracy_score(y_train, training_preds)\n",
    "val_accuracy = accuracy_score(y_test, val_preds)\n",
    "\n",
    "print(\"Training Accuracy: {:.4}%\".format(training_accuracy * 100))\n",
    "print(\"Validation accuracy: {:.4}%\".format(val_accuracy * 100))\n",
    "\n",
    "model_comparison['Baseline DT'] = [round(training_accuracy,4),round(val_accuracy,4)]"
   ]
  },
  {
   "cell_type": "code",
   "execution_count": 27,
   "metadata": {},
   "outputs": [
    {
     "name": "stdout",
     "output_type": "stream",
     "text": [
      "Training Accuracy: 97.85%\n",
      "Validation accuracy: 67.01%\n"
     ]
    }
   ],
   "source": [
    "#Baseline RandomForrest\n",
    "\n",
    "rf_clf = RandomForestClassifier()\n",
    "rf_clf.fit(X_train, y_train)\n",
    "training_preds = rf_clf.predict(X_train)\n",
    "val_preds = rf_clf.predict(X_test)\n",
    "training_accuracy = accuracy_score(y_train, training_preds)\n",
    "val_accuracy = accuracy_score(y_test, val_preds)\n",
    "\n",
    "print(\"Training Accuracy: {:.4}%\".format(training_accuracy * 100))\n",
    "print(\"Validation accuracy: {:.4}%\".format(val_accuracy * 100))\n",
    "\n",
    "model_comparison['Baseline RForrest'] = [round(training_accuracy,4),round(val_accuracy,4)]"
   ]
  },
  {
   "cell_type": "code",
   "execution_count": 28,
   "metadata": {},
   "outputs": [
    {
     "name": "stdout",
     "output_type": "stream",
     "text": [
      "Training Accuracy: 70.55%\n",
      "Validation accuracy: 69.45%\n"
     ]
    }
   ],
   "source": [
    "#Baseline AdaBoost\n",
    "\n",
    "ab_clf = AdaBoostClassifier()\n",
    "ab_clf.fit(X_train, y_train)\n",
    "training_preds = ab_clf.predict(X_train)\n",
    "val_preds = ab_clf.predict(X_test)\n",
    "training_accuracy = accuracy_score(y_train, training_preds)\n",
    "val_accuracy = accuracy_score(y_test, val_preds)\n",
    "\n",
    "print(\"Training Accuracy: {:.4}%\".format(training_accuracy * 100))\n",
    "print(\"Validation accuracy: {:.4}%\".format(val_accuracy * 100))\n",
    "\n",
    "model_comparison['Baseline AdaBoost'] = [round(training_accuracy,4),round(val_accuracy,4)]"
   ]
  },
  {
   "cell_type": "code",
   "execution_count": 29,
   "metadata": {},
   "outputs": [
    {
     "name": "stdout",
     "output_type": "stream",
     "text": [
      "Training Accuracy: 69.22%\n",
      "Validation accuracy: 68.43%\n"
     ]
    }
   ],
   "source": [
    "#Baseline Linear SVC\n",
    "\n",
    "svc_clf = LinearSVC()\n",
    "svc_clf.fit(X_train, y_train)\n",
    "training_preds = svc_clf.predict(X_train)\n",
    "val_preds = svc_clf.predict(X_test)\n",
    "training_accuracy = accuracy_score(y_train, training_preds)\n",
    "val_accuracy = accuracy_score(y_test, val_preds)\n",
    "\n",
    "print(\"Training Accuracy: {:.4}%\".format(training_accuracy * 100))\n",
    "print(\"Validation accuracy: {:.4}%\".format(val_accuracy * 100))\n",
    "\n",
    "model_comparison['Baseline LinearSVC'] = [round(training_accuracy,4),round(val_accuracy,4)]"
   ]
  },
  {
   "cell_type": "code",
   "execution_count": 30,
   "metadata": {},
   "outputs": [
    {
     "name": "stdout",
     "output_type": "stream",
     "text": [
      "Training Accuracy: 70.63%\n",
      "Validation accuracy: 69.38%\n"
     ]
    }
   ],
   "source": [
    "#Baseline XGBoost\n",
    "\n",
    "xgb_clf = xgb.XGBClassifier()\n",
    "xgb_clf.fit(X_train, y_train)\n",
    "training_preds = xgb_clf.predict(X_train)\n",
    "val_preds = xgb_clf.predict(X_test)\n",
    "training_accuracy = accuracy_score(y_train, training_preds)\n",
    "val_accuracy = accuracy_score(y_test, val_preds)\n",
    "\n",
    "print(\"Training Accuracy: {:.4}%\".format(training_accuracy * 100))\n",
    "print(\"Validation accuracy: {:.4}%\".format(val_accuracy * 100))\n",
    "\n",
    "model_comparison['Baseline XGB'] = [round(training_accuracy,4),round(val_accuracy,4)]"
   ]
  },
  {
   "cell_type": "markdown",
   "metadata": {},
   "source": [
    "### Baseline Model Comparison"
   ]
  },
  {
   "cell_type": "code",
   "execution_count": 31,
   "metadata": {},
   "outputs": [
    {
     "data": {
      "text/plain": [
       "{'Baseline DT': [0.9977, 0.628],\n",
       " 'Baseline RForrest': [0.9785, 0.6701],\n",
       " 'Baseline AdaBoost': [0.7055, 0.6945],\n",
       " 'Baseline LinearSVC': [0.6922, 0.6843],\n",
       " 'Baseline XGB': [0.7063, 0.6938]}"
      ]
     },
     "execution_count": 31,
     "metadata": {},
     "output_type": "execute_result"
    }
   ],
   "source": [
    "model_comparison"
   ]
  },
  {
   "cell_type": "code",
   "execution_count": 32,
   "metadata": {},
   "outputs": [
    {
     "data": {
      "text/plain": [
       "<matplotlib.legend.Legend at 0x7fa2533a86a0>"
      ]
     },
     "execution_count": 32,
     "metadata": {},
     "output_type": "execute_result"
    },
    {
     "data": {
      "image/png": "[encoded data removed]",
      "text/plain": [
       "<Figure size 864x432 with 1 Axes>"
      ]
     },
     "metadata": {
      "needs_background": "light"
     },
     "output_type": "display_data"
    }
   ],
   "source": [
    "#plotting our comparison values\n",
    "\n",
    "mod_name = []\n",
    "train_a = []\n",
    "test_a = []\n",
    "for mod in model_comparison.keys():\n",
    "    mod_name.append(mod)\n",
    "    \n",
    "for mod in model_comparison.values():\n",
    "    train_a.append(mod[0])\n",
    "    test_a.append(mod[1])\n",
    "\n",
    "    \n",
    "fig, ax  = plt.subplots(figsize = (12,6))\n",
    "\n",
    "ax.set_ylim([.5, 1],auto=False)    \n",
    "\n",
    "ax.bar(mod_name,train_a,label='Training Data Accuracy',align='edge',width = -0.3, linewidth = 1,edgecolor = 'black')\n",
    "ax.bar(mod_name,test_a,color='lightblue',label='Test Data Accuracy',align='edge',width = 0.3,linewidth = 1,edgecolor = 'black')\n",
    "\n",
    "plt.title('Comparing Baseline Classification Model Accuracy',fontsize = 20)\n",
    "ax.legend(loc='upper right')"
   ]
  },
  {
   "cell_type": "code",
   "execution_count": 33,
   "metadata": {},
   "outputs": [],
   "source": [
    "#Observations ––––––––\n",
    "    #Clearly, our decision tree and random forrest are overfitting\n",
    "    #All of our classification models performed similarly on the Test Data (between 60-70%)\n",
    "    #Best performing were Adaboost, Linear SVC and XGboost. All performed very similarly. \n",
    "    #None of the models performed terribly well.. as 50% performance is as good as random guessing.\n",
    "    #Still, this is a significant improvement on random guessing.\n",
    "\n",
    "#let's see what we can improve with gridsearch! \n",
    "#We'll focus on our top 3 models. "
   ]
  },
  {
   "cell_type": "markdown",
   "metadata": {},
   "source": [
    "### Model Refinement"
   ]
  },
  {
   "cell_type": "code",
   "execution_count": 34,
   "metadata": {},
   "outputs": [
    {
     "name": "stdout",
     "output_type": "stream",
     "text": [
      "Grid Search found the following optimal parameters: \n",
      "learning_rate: 1\n",
      "n_estimators: 500\n",
      "random_state: 0\n",
      "\n",
      "Training Accuracy: 71.48%\n",
      "Validation accuracy: 70.26%\n"
     ]
    }
   ],
   "source": [
    "#Grid Search for AdaBoost\n",
    "\n",
    "param_grid = {\n",
    "    'learning_rate':[.1,1],\n",
    "    \"n_estimators\": [50,500],\n",
    "    'random_state': [0]\n",
    "}\n",
    "\n",
    "grid_clf = GridSearchCV(ab_clf, param_grid, scoring='accuracy', cv=None, n_jobs=1)\n",
    "grid_clf.fit(X_train, y_train)\n",
    "\n",
    "best_parameters = grid_clf.best_params_\n",
    "\n",
    "print(\"Grid Search found the following optimal parameters: \")\n",
    "for param_name in sorted(best_parameters.keys()):\n",
    "    print(\"%s: %r\" % (param_name, best_parameters[param_name]))\n",
    "\n",
    "training_preds = grid_clf.predict(X_train)\n",
    "val_preds = grid_clf.predict(X_test)\n",
    "training_accuracy = accuracy_score(y_train, training_preds)\n",
    "val_accuracy = accuracy_score(y_test, val_preds)\n",
    "\n",
    "print(\"\")\n",
    "print(\"Training Accuracy: {:.4}%\".format(training_accuracy * 100))\n",
    "print(\"Validation accuracy: {:.4}%\".format(val_accuracy * 100))\n",
    "\n",
    "model_comparison['Optimized AdaBoost'] = [round(training_accuracy,4),round(val_accuracy,4)]"
   ]
  },
  {
   "cell_type": "code",
   "execution_count": 35,
   "metadata": {
    "scrolled": true
   },
   "outputs": [
    {
     "data": {
      "text/plain": [
       "<matplotlib.colorbar.Colorbar at 0x7fa253237240>"
      ]
     },
     "execution_count": 35,
     "metadata": {},
     "output_type": "execute_result"
    },
    {
     "data": {
      "image/png": "[encoded data removed]",
      "text/plain": [
       "<Figure size 432x288 with 2 Axes>"
      ]
     },
     "metadata": {
      "needs_background": "light"
     },
     "output_type": "display_data"
    }
   ],
   "source": [
    "#Confusion Matrix for Adaboost\n",
    "\n",
    "cnf_matrix = confusion_matrix(val_preds, y_test)\n",
    "plt.imshow(cnf_matrix,  cmap=plt.cm.Blues) #Create the basic matrix.\n",
    "\n",
    "#Add title and Axis Labels\n",
    "plt.title('Confusion Matrix')\n",
    "plt.ylabel('True label')\n",
    "plt.xlabel('Predicted label')\n",
    "\n",
    "#Add appropriate Axis Scales\n",
    "class_names = ['Fail','Success'] #Get class labels to add to matrix\n",
    "tick_marks = np.arange(len(class_names))\n",
    "plt.xticks(tick_marks, class_names, rotation=45)\n",
    "plt.yticks(tick_marks, class_names)\n",
    "\n",
    "\n",
    "#Add Labels to Each Cell\n",
    "thresh = cnf_matrix.max() / 2. #Used for text coloring below\n",
    "#Here we iterate through the confusion matrix and append labels to our visualization.\n",
    "for i, j in itertools.product(range(cnf_matrix.shape[0]), range(cnf_matrix.shape[1])):\n",
    "        plt.text(j, i, cnf_matrix[i, j],\n",
    "                 horizontalalignment=\"center\",\n",
    "                 color=\"white\" if cnf_matrix[i, j] > thresh else \"black\")\n",
    "\n",
    "plt.colorbar()"
   ]
  },
  {
   "cell_type": "code",
   "execution_count": 36,
   "metadata": {},
   "outputs": [
    {
     "name": "stdout",
     "output_type": "stream",
     "text": [
      "Grid Search found the following optimal parameters: \n",
      "C: 20\n",
      "loss: 'squared_hinge'\n",
      "\n",
      "Training Accuracy: 69.57%\n",
      "Validation accuracy: 68.66%\n"
     ]
    }
   ],
   "source": [
    "#Grid Search for Linear SVC\n",
    "\n",
    "param_grid = {\n",
    "    'loss': ['hinge', 'squared_hinge'],\n",
    "    'C': [1,20],\n",
    "}\n",
    "\n",
    "grid_clf = GridSearchCV(svc_clf, param_grid, scoring='accuracy', cv=None, n_jobs=1)\n",
    "grid_clf.fit(X_train, y_train)\n",
    "\n",
    "best_parameters = grid_clf.best_params_\n",
    "\n",
    "print(\"Grid Search found the following optimal parameters: \")\n",
    "for param_name in sorted(best_parameters.keys()):\n",
    "    print(\"%s: %r\" % (param_name, best_parameters[param_name]))\n",
    "\n",
    "training_preds = grid_clf.predict(X_train)\n",
    "val_preds = grid_clf.predict(X_test)\n",
    "training_accuracy = accuracy_score(y_train, training_preds)\n",
    "val_accuracy = accuracy_score(y_test, val_preds)\n",
    "\n",
    "print(\"\")\n",
    "print(\"Training Accuracy: {:.4}%\".format(training_accuracy * 100))\n",
    "print(\"Validation accuracy: {:.4}%\".format(val_accuracy * 100))\n",
    "\n",
    "model_comparison['Optimized LinearSVC'] = [round(training_accuracy,4),round(val_accuracy,4)]"
   ]
  },
  {
   "cell_type": "code",
   "execution_count": 39,
   "metadata": {},
   "outputs": [
    {
     "data": {
      "text/plain": [
       "<matplotlib.colorbar.Colorbar at 0x7fa1e3c0ae10>"
      ]
     },
     "execution_count": 39,
     "metadata": {},
     "output_type": "execute_result"
    },
    {
     "data": {
      "image/png": "[encoded data removed]",
      "text/plain": [
       "<Figure size 432x288 with 2 Axes>"
      ]
     },
     "metadata": {
      "needs_background": "light"
     },
     "output_type": "display_data"
    }
   ],
   "source": [
    "#Confusion Matrix for Linear SVC\n",
    "\n",
    "cnf_matrix = confusion_matrix(val_preds, y_test)\n",
    "plt.imshow(cnf_matrix,  cmap=plt.cm.Blues) #Create the basic matrix.\n",
    "\n",
    "#Add title and Axis Labels\n",
    "plt.title('Confusion Matrix')\n",
    "plt.ylabel('True label')\n",
    "plt.xlabel('Predicted label')\n",
    "\n",
    "#Add appropriate Axis Scales\n",
    "class_names = ['Fail','Success'] #Get class labels to add to matrix\n",
    "tick_marks = np.arange(len(class_names))\n",
    "plt.xticks(tick_marks, class_names, rotation=45)\n",
    "plt.yticks(tick_marks, class_names)\n",
    "\n",
    "#Add Labels to Each Cell\n",
    "thresh = cnf_matrix.max() / 2. #Used for text coloring below\n",
    "#Here we iterate through the confusion matrix and append labels to our visualization.\n",
    "for i, j in itertools.product(range(cnf_matrix.shape[0]), range(cnf_matrix.shape[1])):\n",
    "        plt.text(j, i, cnf_matrix[i, j],\n",
    "                 horizontalalignment=\"center\",\n",
    "                 color=\"white\" if cnf_matrix[i, j] > thresh else \"black\")\n",
    "\n",
    "plt.colorbar()"
   ]
  },
  {
   "cell_type": "code",
   "execution_count": 48,
   "metadata": {},
   "outputs": [
    {
     "name": "stdout",
     "output_type": "stream",
     "text": [
      "Grid Search found the following optimal parameters: \n",
      "learning_rate: 0.1\n",
      "n_estimators: 250\n",
      "\n",
      "Training Accuracy: 71.81%\n",
      "Validation accuracy: 70.23%\n"
     ]
    }
   ],
   "source": [
    "#Grid Search for XGBoost\n",
    "\n",
    "param_grid = {\n",
    "    \"learning_rate\": [.1,1], \n",
    "    \"n_estimators\": [100,250], # default 100\n",
    "}\n",
    "\n",
    "grid_clf = GridSearchCV(xgb_clf, param_grid, scoring='accuracy', cv=None, n_jobs=1)\n",
    "grid_clf.fit(X_train, y_train)\n",
    "\n",
    "best_parameters = grid_clf.best_params_\n",
    "\n",
    "print(\"Grid Search found the following optimal parameters: \")\n",
    "for param_name in sorted(best_parameters.keys()):\n",
    "    print(\"%s: %r\" % (param_name, best_parameters[param_name]))\n",
    "\n",
    "training_preds = grid_clf.predict(X_train)\n",
    "val_preds = grid_clf.predict(X_test)\n",
    "training_accuracy = accuracy_score(y_train, training_preds)\n",
    "val_accuracy = accuracy_score(y_test, val_preds)\n",
    "\n",
    "print(\"\")\n",
    "print(\"Training Accuracy: {:.4}%\".format(training_accuracy * 100))\n",
    "print(\"Validation accuracy: {:.4}%\".format(val_accuracy * 100))\n",
    "\n",
    "model_comparison['Optimized XGBoost'] = [round(training_accuracy,4),round(val_accuracy,4)]"
   ]
  },
  {
   "cell_type": "code",
   "execution_count": 51,
   "metadata": {},
   "outputs": [
    {
     "data": {
      "text/plain": [
       "<matplotlib.colorbar.Colorbar at 0x7fa1e3cd15c0>"
      ]
     },
     "execution_count": 51,
     "metadata": {},
     "output_type": "execute_result"
    },
    {
     "data": {
      "image/png": "[encoded data removed]",
      "text/plain": [
       "<Figure size 432x288 with 2 Axes>"
      ]
     },
     "metadata": {
      "needs_background": "light"
     },
     "output_type": "display_data"
    }
   ],
   "source": [
    "#Confusion Matrix for XGBoost\n",
    "\n",
    "cnf_matrix = confusion_matrix(val_preds, y_test)\n",
    "plt.imshow(cnf_matrix,  cmap=plt.cm.Blues) #Create the basic matrix.\n",
    "\n",
    "#Add title and Axis Labels\n",
    "plt.title('Confusion Matrix')\n",
    "plt.ylabel('True label')\n",
    "plt.xlabel('Predicted label')\n",
    "\n",
    "#Add appropriate Axis Scales\n",
    "class_names = ['Fail','Success'] #Get class labels to add to matrix\n",
    "tick_marks = np.arange(len(class_names))\n",
    "plt.xticks(tick_marks, class_names, rotation=45)\n",
    "plt.yticks(tick_marks, class_names)\n",
    "\n",
    "#Add Labels to Each Cell\n",
    "thresh = cnf_matrix.max() / 2. #Used for text coloring below\n",
    "#Here we iterate through the confusion matrix and append labels to our visualization.\n",
    "for i, j in itertools.product(range(cnf_matrix.shape[0]), range(cnf_matrix.shape[1])):\n",
    "        plt.text(j, i, cnf_matrix[i, j],\n",
    "                 horizontalalignment=\"center\",\n",
    "                 color=\"white\" if cnf_matrix[i, j] > thresh else \"black\")\n",
    "\n",
    "plt.colorbar()"
   ]
  },
  {
   "cell_type": "markdown",
   "metadata": {},
   "source": [
    "## Interpretation"
   ]
  },
  {
   "cell_type": "code",
   "execution_count": 53,
   "metadata": {},
   "outputs": [
    {
     "data": {
      "text/plain": [
       "{'Baseline DT': [0.9977, 0.628],\n",
       " 'Baseline RForrest': [0.9785, 0.6701],\n",
       " 'Baseline AdaBoost': [0.7055, 0.6945],\n",
       " 'Baseline LinearSVC': [0.6922, 0.6843],\n",
       " 'Baseline XGB': [0.7063, 0.6938],\n",
       " 'Optimized AdaBoost': [0.7148, 0.7026],\n",
       " 'Optimized LinearSVC': [0.6957, 0.6866],\n",
       " 'Optimized XGBoost': [0.7181, 0.7023]}"
      ]
     },
     "execution_count": 53,
     "metadata": {},
     "output_type": "execute_result"
    }
   ],
   "source": [
    "model_comparison"
   ]
  },
  {
   "cell_type": "code",
   "execution_count": 54,
   "metadata": {},
   "outputs": [
    {
     "data": {
      "text/plain": [
       "<matplotlib.legend.Legend at 0x7fa1e4c07f98>"
      ]
     },
     "execution_count": 54,
     "metadata": {},
     "output_type": "execute_result"
    },
    {
     "data": {
      "image/png": "[encoded data removed]",
      "text/plain": [
       "<Figure size 864x432 with 1 Axes>"
      ]
     },
     "metadata": {
      "needs_background": "light"
     },
     "output_type": "display_data"
    }
   ],
   "source": [
    "#Final Comparison\n",
    "\n",
    "mod_name = []\n",
    "train_a = []\n",
    "test_a = []\n",
    "for mod in model_comparison.keys():\n",
    "    mod_name.append(mod)\n",
    "    \n",
    "for mod in model_comparison.values():\n",
    "    train_a.append(mod[0])\n",
    "    test_a.append(mod[1])\n",
    "\n",
    "    \n",
    "fig, ax  = plt.subplots(figsize = (12,6))\n",
    "\n",
    "ax.set_ylim([.68, .73],auto=False)    \n",
    "\n",
    "ax.bar(mod_name[2:],train_a[2:],label='Training Data Accuracy',align='edge',width = -0.3, linewidth = 1,edgecolor = 'black')\n",
    "ax.bar(mod_name[2:],test_a[2:],color='lightblue',label='Test Data Accuracy',align='edge',width = 0.3,linewidth = 1,edgecolor = 'black')\n",
    "\n",
    "plt.title('Comparing Classification Model Accuracy',fontsize = 20)\n",
    "ax.legend(loc='upper right')"
   ]
  },
  {
   "cell_type": "markdown",
   "metadata": {},
   "source": [
    "---\n",
    "## Interpret\n",
    "\n",
    "### Ultimately, our Adaboost classifier performed the best, with a **Train Accuracy of 71.48%** and a **Test accuracy of 70.26%**\n",
    "\n",
    "The classifier was able to classify ~62% of successes correctly and ~74% of failures correctly. \n",
    "\n",
    "While this is a significant improvement over random guessing (50%) – it still is far from perfect, with plenty of false positives and negatives.\n",
    "\n",
    "Attempts to build a superior model would benefit from additional project-level data, including data points like product pricing and tiers, full project descriptions, creator bios, and more."
   ]
  }
 ],
 "metadata": {
  "kernelspec": {
   "display_name": "learn-env",
   "language": "python",
   "name": "learn-env"
  },
  "language_info": {
   "codemirror_mode": {
    "name": "ipython",
    "version": 3
   },
   "file_extension": ".py",
   "mimetype": "text/x-python",
   "name": "python",
   "nbconvert_exporter": "python",
   "pygments_lexer": "ipython3",
   "version": "3.6.6"
  }
 },
 "nbformat": 4,
 "nbformat_minor": 2
}
